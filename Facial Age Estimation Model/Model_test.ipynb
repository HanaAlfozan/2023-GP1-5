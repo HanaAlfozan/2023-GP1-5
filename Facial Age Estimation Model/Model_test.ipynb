{
 "cells": [
  {
   "cell_type": "code",
   "execution_count": 1,
   "metadata": {},
   "outputs": [
    {
     "name": "stderr",
     "output_type": "stream",
     "text": [
      "2023-10-19 14:43:59.263859: I tensorflow/core/platform/cpu_feature_guard.cc:182] This TensorFlow binary is optimized to use available CPU instructions in performance-critical operations.\n",
      "To enable the following instructions: SSE4.1 SSE4.2, in other operations, rebuild TensorFlow with the appropriate compiler flags.\n"
     ]
    },
    {
     "name": "stdout",
     "output_type": "stream",
     "text": [
      "Intel MKL WARNING: Support of Intel(R) Streaming SIMD Extensions 4.2 (Intel(R) SSE4.2) enabled only processors has been deprecated. Intel oneAPI Math Kernel Library 2025.0 will require Intel(R) Advanced Vector Extensions (Intel(R) AVX) instructions.\n",
      "Intel MKL WARNING: Support of Intel(R) Streaming SIMD Extensions 4.2 (Intel(R) SSE4.2) enabled only processors has been deprecated. Intel oneAPI Math Kernel Library 2025.0 will require Intel(R) Advanced Vector Extensions (Intel(R) AVX) instructions.\n",
      "1/1 [==============================] - 0s 142ms/step\n",
      "1/1 [==============================] - 0s 32ms/step\n",
      "1/1 [==============================] - 0s 27ms/step\n",
      "1/1 [==============================] - 0s 27ms/step\n",
      "1/1 [==============================] - 0s 27ms/step\n",
      "1/1 [==============================] - 0s 29ms/step\n",
      "1/1 [==============================] - 0s 28ms/step\n",
      "1/1 [==============================] - 0s 25ms/step\n",
      "1/1 [==============================] - 0s 26ms/step\n",
      "1/1 [==============================] - 0s 25ms/step\n",
      "1/1 [==============================] - 0s 26ms/step\n",
      "Image 1: 40.jpg - Predicted Class Label: 0-3\n",
      "Image 2: 47.jpg - Predicted Class Label: 0-3\n",
      "Image 3: 231.jpg - Predicted Class Label: 4+\n",
      "Image 4: 408.jpg - Predicted Class Label: 4+\n",
      "Image 5: 92.jpg - Predicted Class Label: 4+\n",
      "Image 6: 352.jpg - Predicted Class Label: 4+\n",
      "Image 7: 757.jpg - Predicted Class Label: 9+\n",
      "Image 8: 46.jpg - Predicted Class Label: 12+\n",
      "Image 9: 230.jpg - Predicted Class Label: 12+\n",
      "Image 10: 51.png - Predicted Class Label: 17+\n",
      "Image 11: 127.png - Predicted Class Label: 17+\n"
     ]
    }
   ],
   "source": [
    "import tensorflow as tf\n",
    "from tensorflow.keras.preprocessing import image\n",
    "import numpy as np\n",
    "import tensorflow as tf\n",
    "from tensorflow.keras.preprocessing import image\n",
    "import numpy as np\n",
    "\n",
    "\n",
    "# Define a function to preprocess an image\n",
    "def preprocess_image(image_path, target_size=(224, 224)):\n",
    "    img = image.load_img(image_path, target_size=target_size)\n",
    "    img_array = image.img_to_array(img)\n",
    "    img_array = np.expand_dims(img_array, axis=0)\n",
    "    img_array /= 255.0  # Rescale pixel values to [0, 1]\n",
    "    return img_array\n",
    "\n",
    "# Load the saved model\n",
    "model = tf.keras.models.load_model('AgeEstimation_Model_Best.h5')\n",
    "\n",
    "# Define a list of image file paths\n",
    "image_paths = [\n",
    "    '40.jpg',  #0-3\n",
    "    \n",
    "    '47.jpg', # 4+    \n",
    "    '231.jpg', # 4+\n",
    "    '408.jpg', # 4+\n",
    "\n",
    "    '92.jpg',  #9+\n",
    "    '352.jpg',  #9+\n",
    "    '757.jpg',  #9+  \n",
    "\n",
    "    '46.jpg', #12+\n",
    "    '230.jpg', #12+\n",
    "    \n",
    "    '51.png' , #17+  \n",
    "    '127.png' , #17+\n",
    "]\n",
    "\n",
    "# Define your list of class labels in the same order used during model training\n",
    "class_labels = ['0-3', '12+', '17+', '4+', '9+']\n",
    "\n",
    "# Initialize a list to store the predicted class labels\n",
    "predicted_labels = []\n",
    "\n",
    "# Loop through the list of image file paths\n",
    "for image_path in image_paths:\n",
    "    # Load and preprocess the image\n",
    "    preprocessed_image = preprocess_image(image_path)\n",
    "\n",
    "    # Use the model to make predictions\n",
    "    predictions = model.predict(preprocessed_image)\n",
    "\n",
    "    # Get the index of the class with the highest prediction score\n",
    "    predicted_class_index = np.argmax(predictions)\n",
    "\n",
    "    # Use the index to look up the corresponding class label\n",
    "    predicted_class_label = class_labels[predicted_class_index]\n",
    "\n",
    "    # Append the predicted class label to the list\n",
    "    predicted_labels.append(predicted_class_label)\n",
    "\n",
    "# Print all the predicted class labels\n",
    "for i, image_path in enumerate(image_paths):\n",
    "    print(f'Image {i + 1}: {image_path} - Predicted Class Label: {predicted_labels[i]}')\n",
    "\n",
    "\n",
    "# all correct but the 4+ and 9+ not that much"
   ]
  },
  {
   "cell_type": "code",
   "execution_count": null,
   "metadata": {},
   "outputs": [],
   "source": []
  }
 ],
 "metadata": {
  "kernelspec": {
   "display_name": "train",
   "language": "python",
   "name": "python3"
  },
  "language_info": {
   "codemirror_mode": {
    "name": "ipython",
    "version": 3
   },
   "file_extension": ".py",
   "mimetype": "text/x-python",
   "name": "python",
   "nbconvert_exporter": "python",
   "pygments_lexer": "ipython3",
   "version": "3.10.12"
  },
  "orig_nbformat": 4
 },
 "nbformat": 4,
 "nbformat_minor": 2
}
