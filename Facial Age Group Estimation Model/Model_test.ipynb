{
 "cells": [
  {
   "cell_type": "code",
   "execution_count": 1,
   "metadata": {},
   "outputs": [
    {
     "name": "stderr",
     "output_type": "stream",
     "text": [
      "2023-11-28 00:03:02.995644: I tensorflow/core/platform/cpu_feature_guard.cc:182] This TensorFlow binary is optimized to use available CPU instructions in performance-critical operations.\n",
      "To enable the following instructions: SSE4.1 SSE4.2, in other operations, rebuild TensorFlow with the appropriate compiler flags.\n"
     ]
    },
    {
     "name": "stdout",
     "output_type": "stream",
     "text": [
      "1/1 [==============================] - 0s 318ms/step\n",
      "1/1 [==============================] - 0s 35ms/step\n",
      "1/1 [==============================] - 0s 34ms/step\n",
      "1/1 [==============================] - 0s 31ms/step\n",
      "1/1 [==============================] - 0s 33ms/step\n",
      "1/1 [==============================] - 0s 31ms/step\n",
      "1/1 [==============================] - 0s 32ms/step\n",
      "1/1 [==============================] - 0s 33ms/step\n",
      "1/1 [==============================] - 0s 31ms/step\n",
      "1/1 [==============================] - 0s 33ms/step\n",
      "Image 1: Faces_images/test/0-3/153.jpg - Predicted Class Label: 0-3\n",
      "Image 2: Faces_images/test/0-3/423.jpg - Predicted Class Label: 0-3\n",
      "Image 3: Faces_images/test/4+/02614_cropped_cropped.jpg - Predicted Class Label: 4+\n",
      "Image 4: Faces_images/test/4+/03521_cropped_cropped.jpg - Predicted Class Label: 4+\n",
      "Image 5: Faces_images/test/9+/26917_cropped_cropped.jpg - Predicted Class Label: 9+\n",
      "Image 6: Faces_images/test/9+/35651_cropped_cropped.jpg - Predicted Class Label: 9+\n",
      "Image 7: Faces_images/test/12+/05321_cropped_cropped.jpg - Predicted Class Label: 12+\n",
      "Image 8: Faces_images/test/12+/15515_cropped_cropped.jpg - Predicted Class Label: 12+\n",
      "Image 9: Faces_images/test/17+/05494_cropped.jpg - Predicted Class Label: 17+\n",
      "Image 10: Faces_images/test/17+/11032_cropped.jpg - Predicted Class Label: 17+\n"
     ]
    }
   ],
   "source": [
    "import tensorflow as tf\n",
    "from tensorflow.keras.preprocessing import image\n",
    "import numpy as np\n",
    "import tensorflow as tf\n",
    "from tensorflow.keras.preprocessing import image\n",
    "import numpy as np\n",
    "\n",
    "\n",
    "# Define a function to preprocess an image\n",
    "def preprocess_image(image_path, target_size=(224, 224)):\n",
    "    img = image.load_img(image_path, target_size=target_size) #load image\n",
    "    img_array = image.img_to_array(img) # Convert to NumPy array\n",
    "    img_array = np.expand_dims(img_array, axis=0)\n",
    "    img_array /= 255.0  # Rescale pixel values to [0, 1]\n",
    "    return img_array\n",
    "\n",
    "# Load the saved model\n",
    "model = tf.keras.models.load_model('FacialAgeGroupEstimation_BestModel.h5')\n",
    "\n",
    "# Define a list of image file paths from test set\n",
    "image_paths = [\n",
    "    'Faces_images/test/0-3/153.jpg',  #0-3  \n",
    "    'Faces_images/test/0-3/423.jpg',  #0-3  \n",
    "\n",
    "    'Faces_images/test/4+/02614_cropped_cropped.jpg',  #4+    \n",
    "    'Faces_images/test/4+/03521_cropped_cropped.jpg',  #4+ \n",
    "\n",
    "    'Faces_images/test/9+/26917_cropped_cropped.jpg',  #9+    \n",
    "    'Faces_images/test/9+/35651_cropped_cropped.jpg',  #9+  \n",
    "\n",
    "    'Faces_images/test/12+/05321_cropped_cropped.jpg',  #12+    \n",
    "    'Faces_images/test/12+/15515_cropped_cropped.jpg',  #12+  \n",
    "\n",
    "    'Faces_images/test/17+/05494_cropped.jpg',  #17+    \n",
    "    'Faces_images/test/17+/11032_cropped.jpg',  #17+    \n",
    "]\n",
    "\n",
    "# Define your list of class labels in the same order used during model training\n",
    "class_labels = ['0-3', '4+', '9+', '12+', '17+']\n",
    "\n",
    "# Initialize a list to store the predicted class labels\n",
    "predicted_labels = []\n",
    "\n",
    "# Loop through the list of image file paths\n",
    "for image_path in image_paths:\n",
    "    # Load and preprocess the image\n",
    "    preprocessed_image = preprocess_image(image_path)\n",
    "\n",
    "    # Use the model to make predictions\n",
    "    predictions = model.predict(preprocessed_image)\n",
    "\n",
    "    # Get the index of the class with the highest prediction score\n",
    "    predicted_class_index = np.argmax(predictions)\n",
    "\n",
    "    # Use the index to look up the corresponding class label\n",
    "    predicted_class_label = class_labels[predicted_class_index]\n",
    "\n",
    "    # Append the predicted class label to the list\n",
    "    predicted_labels.append(predicted_class_label)\n",
    "\n",
    "# Print all the predicted class labels\n",
    "for i, image_path in enumerate(image_paths):\n",
    "    print(f'Image {i + 1}: {image_path} - Predicted Class Label: {predicted_labels[i]}')"
   ]
  }
 ],
 "metadata": {
  "kernelspec": {
   "display_name": "train",
   "language": "python",
   "name": "python3"
  },
  "language_info": {
   "codemirror_mode": {
    "name": "ipython",
    "version": 3
   },
   "file_extension": ".py",
   "mimetype": "text/x-python",
   "name": "python",
   "nbconvert_exporter": "python",
   "pygments_lexer": "ipython3",
   "version": "3.11.5"
  },
  "orig_nbformat": 4
 },
 "nbformat": 4,
 "nbformat_minor": 2
}
